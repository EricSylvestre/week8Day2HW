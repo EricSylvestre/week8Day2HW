{
 "cells": [
  {
   "cell_type": "code",
   "execution_count": 2,
   "id": "impaired-montgomery",
   "metadata": {},
   "outputs": [],
   "source": [
    "# import unicodecsv as csv\n",
    "import csv\n",
    "# conda install unicodecsv"
   ]
  },
  {
   "cell_type": "markdown",
   "id": "unlikely-eugene",
   "metadata": {},
   "source": [
    "# Data Analysis Process"
   ]
  },
  {
   "cell_type": "markdown",
   "id": "unauthorized-demographic",
   "metadata": {},
   "source": [
    "### Step 1: Get data"
   ]
  },
  {
   "cell_type": "markdown",
   "id": "nutritional-swift",
   "metadata": {},
   "source": [
    "Categorical Data - Any value that if you ran mathematical operation on, you'd get nonsensical data"
   ]
  },
  {
   "cell_type": "markdown",
   "id": "alternative-stretch",
   "metadata": {},
   "source": [
    "Ordinal Data - Any value that if you ran mathematical operation on it, you'd get sensical data"
   ]
  },
  {
   "cell_type": "markdown",
   "id": "amino-violation",
   "metadata": {},
   "source": [
    "### Step 2: Clean Data"
   ]
  },
  {
   "cell_type": "code",
   "execution_count": 3,
   "id": "022ca9ae",
   "metadata": {},
   "outputs": [],
   "source": [
    "# enrollment_data = []\n",
    "# file = open('./enrollments.csv', 'r')\n",
    "# data = csv.DictReader(file)\n",
    "# for i in data:\n",
    "#     enrollment_data.append(i)\n",
    "# file.close()"
   ]
  },
  {
   "cell_type": "code",
   "execution_count": 4,
   "id": "39c6f195",
   "metadata": {},
   "outputs": [],
   "source": [
    "# len(enrollment_data)"
   ]
  },
  {
   "cell_type": "code",
   "execution_count": 5,
   "id": "f96138f6",
   "metadata": {},
   "outputs": [],
   "source": [
    "# enrollment_data[0]"
   ]
  },
  {
   "cell_type": "code",
   "execution_count": 6,
   "id": "fd31a371",
   "metadata": {},
   "outputs": [],
   "source": [
    "def read_from_csv(filepath):\n",
    "    with open(filepath) as file:\n",
    "        data = csv.DictReader(file)\n",
    "        return list(data)\n",
    "\n",
    "enrollment_data = read_from_csv('./enrollments.csv')\n",
    "engagement_data = read_from_csv('./engagements.csv')\n",
    "submission_data = read_from_csv('./submissions.csv')"
   ]
  },
  {
   "cell_type": "code",
   "execution_count": 7,
   "id": "42ee51e2",
   "metadata": {
    "scrolled": true
   },
   "outputs": [
    {
     "name": "stdout",
     "output_type": "stream",
     "text": [
      "1640\n",
      "136240\n",
      "3642\n"
     ]
    }
   ],
   "source": [
    "print(len(enrollment_data))\n",
    "print(len(engagement_data))\n",
    "print(len(submission_data))"
   ]
  },
  {
   "cell_type": "code",
   "execution_count": 8,
   "id": "c6250957",
   "metadata": {},
   "outputs": [
    {
     "data": {
      "text/plain": [
       "{'account_key': '700',\n",
       " 'status': 'canceled',\n",
       " 'join_date': '2017-11-10',\n",
       " 'cancel_date': '2017-11-16',\n",
       " 'days_to_cancel': '6',\n",
       " 'is_enrolled': 'FALSE',\n",
       " 'is_canceled': 'TRUE'}"
      ]
     },
     "execution_count": 8,
     "metadata": {},
     "output_type": "execute_result"
    }
   ],
   "source": [
    "enrollment_data[0]"
   ]
  },
  {
   "cell_type": "code",
   "execution_count": 9,
   "id": "4096253d",
   "metadata": {},
   "outputs": [
    {
     "data": {
      "text/plain": [
       "{'acct': '0',\n",
       " 'utc_date': '2018-01-09',\n",
       " 'num_courses_visited': '1',\n",
       " 'total_minutes_visited': '11.6793745',\n",
       " 'lessons_completed': '0',\n",
       " 'projects_completed': '0'}"
      ]
     },
     "execution_count": 9,
     "metadata": {},
     "output_type": "execute_result"
    }
   ],
   "source": [
    "engagement_data[0]"
   ]
  },
  {
   "cell_type": "code",
   "execution_count": 10,
   "id": "c5b1d8b5",
   "metadata": {},
   "outputs": [
    {
     "data": {
      "text/plain": [
       "{'creation_date': '2018-01-14',\n",
       " 'completion_date': '2018-01-16',\n",
       " 'assigned_rating': 'UNGRADED',\n",
       " 'account_key': '256',\n",
       " 'lesson_key': '3176718735',\n",
       " 'processing_state': 'EVALUATED'}"
      ]
     },
     "execution_count": 10,
     "metadata": {},
     "output_type": "execute_result"
    }
   ],
   "source": [
    "submission_data[0]"
   ]
  },
  {
   "cell_type": "code",
   "execution_count": 11,
   "id": "c463efe8",
   "metadata": {},
   "outputs": [],
   "source": [
    "from datetime import datetime as dt"
   ]
  },
  {
   "cell_type": "code",
   "execution_count": 12,
   "id": "0bb2d902",
   "metadata": {},
   "outputs": [
    {
     "data": {
      "text/plain": [
       "datetime.datetime(2018, 1, 14, 0, 0)"
      ]
     },
     "execution_count": 12,
     "metadata": {},
     "output_type": "execute_result"
    }
   ],
   "source": [
    "dt.strptime('2018-01-14', '%Y-%m-%d')"
   ]
  },
  {
   "cell_type": "code",
   "execution_count": 13,
   "id": "31a163f2",
   "metadata": {
    "scrolled": true
   },
   "outputs": [
    {
     "data": {
      "text/plain": [
       "datetime.datetime(2022, 3, 8, 15, 30, 15, 220291)"
      ]
     },
     "execution_count": 13,
     "metadata": {},
     "output_type": "execute_result"
    }
   ],
   "source": [
    "dt.strftime(dt(2018, 1, 14, 0, 0), '%Y-%m-%d')\n",
    "dt.now()"
   ]
  },
  {
   "cell_type": "code",
   "execution_count": 14,
   "id": "f5dbc9c8",
   "metadata": {
    "scrolled": true
   },
   "outputs": [
    {
     "data": {
      "text/plain": [
       "'2022/03/08 30:15'"
      ]
     },
     "execution_count": 14,
     "metadata": {},
     "output_type": "execute_result"
    }
   ],
   "source": [
    "dt.strftime(dt.now(), '%Y/%m/%d %M:%S')"
   ]
  },
  {
   "cell_type": "code",
   "execution_count": 15,
   "id": "e238e873",
   "metadata": {},
   "outputs": [],
   "source": [
    "def convert_to_date(string):\n",
    "    if string == '':\n",
    "        return None\n",
    "    return dt.strptime(string, '%Y-%m-%d')\n",
    "\n",
    "def convert_to_bool(string):\n",
    "    if string == '':\n",
    "        return None\n",
    "    elif string == 'TRUE':\n",
    "        return True\n",
    "    elif string == 'FALSE':\n",
    "        return False\n",
    "\n",
    "def convert_to_int(string):\n",
    "    if string == '':\n",
    "        return None\n",
    "    return int(string)\n",
    "\n",
    "def convert_to_float(string):\n",
    "    if string == '':\n",
    "        return None\n",
    "    return float(string)"
   ]
  },
  {
   "cell_type": "code",
   "execution_count": 16,
   "id": "a10f20a6",
   "metadata": {},
   "outputs": [],
   "source": [
    "for r in enrollment_data:\n",
    "    r['join_date'] = convert_to_date(r['join_date'])\n",
    "    r['cancel_date'] = convert_to_date(r['cancel_date'])\n",
    "    r['days_to_cancel'] = convert_to_int(r['days_to_cancel'])\n",
    "    r['is_enrolled'] = convert_to_bool(r['is_enrolled'])\n",
    "    r['is_canceled'] = convert_to_bool(r['is_canceled'])"
   ]
  },
  {
   "cell_type": "code",
   "execution_count": 17,
   "id": "68d9e96a",
   "metadata": {},
   "outputs": [
    {
     "data": {
      "text/plain": [
       "{'account_key': '700',\n",
       " 'status': 'canceled',\n",
       " 'join_date': datetime.datetime(2017, 11, 10, 0, 0),\n",
       " 'cancel_date': datetime.datetime(2017, 11, 16, 0, 0),\n",
       " 'days_to_cancel': 6,\n",
       " 'is_enrolled': False,\n",
       " 'is_canceled': True}"
      ]
     },
     "execution_count": 17,
     "metadata": {},
     "output_type": "execute_result"
    }
   ],
   "source": [
    "enrollment_data[0]"
   ]
  },
  {
   "cell_type": "code",
   "execution_count": 18,
   "id": "c7ddeaa4",
   "metadata": {},
   "outputs": [],
   "source": [
    "for r in engagement_data:\n",
    "    r['utc_date'] = convert_to_date(r['utc_date'])\n",
    "    r['num_courses_visited'] = convert_to_int(r['num_courses_visited'])\n",
    "    r['total_minutes_visited'] = convert_to_float(r['total_minutes_visited'])\n",
    "    r['lessons_completed'] = convert_to_int(r['lessons_completed'])\n",
    "    r['projects_completed'] = convert_to_int(r['projects_completed'])"
   ]
  },
  {
   "cell_type": "code",
   "execution_count": 19,
   "id": "c32c5577",
   "metadata": {},
   "outputs": [],
   "source": [
    "for r in submission_data:\n",
    "    r['creation_date'] = convert_to_date(r['creation_date'])\n",
    "    r['completion_date'] = convert_to_date(r['completion_date'])"
   ]
  },
  {
   "cell_type": "code",
   "execution_count": 20,
   "id": "d0699ada",
   "metadata": {},
   "outputs": [],
   "source": [
    "# Make consistent all column labels\n",
    "# RUN ONLY ONCE\n",
    "for r in engagement_data:\n",
    "    r['account_key'] = r['acct']\n",
    "    # destroy the old 'acct' reference\n",
    "    del r['acct']\n",
    "# RUN ONLY ONCE"
   ]
  },
  {
   "cell_type": "code",
   "execution_count": 21,
   "id": "a342bbe0",
   "metadata": {},
   "outputs": [
    {
     "data": {
      "text/plain": [
       "{'utc_date': datetime.datetime(2018, 1, 9, 0, 0),\n",
       " 'num_courses_visited': 1,\n",
       " 'total_minutes_visited': 11.6793745,\n",
       " 'lessons_completed': 0,\n",
       " 'projects_completed': 0,\n",
       " 'account_key': '0'}"
      ]
     },
     "execution_count": 21,
     "metadata": {},
     "output_type": "execute_result"
    }
   ],
   "source": [
    "engagement_data[0]"
   ]
  },
  {
   "cell_type": "code",
   "execution_count": null,
   "id": "4d29cf18",
   "metadata": {},
   "outputs": [],
   "source": []
  },
  {
   "cell_type": "code",
   "execution_count": 22,
   "id": "6cb3484b",
   "metadata": {},
   "outputs": [],
   "source": [
    "def get_unique_records(dataset, column_name):\n",
    "    unique_data = set()\n",
    "    for row in dataset:\n",
    "        unique_data.add(row[column_name])\n",
    "    return unique_data"
   ]
  },
  {
   "cell_type": "code",
   "execution_count": 23,
   "id": "a77f8c67",
   "metadata": {},
   "outputs": [],
   "source": [
    "unique_enrollments = get_unique_records(enrollment_data, 'account_key')\n",
    "unique_engagements = get_unique_records(engagement_data, 'account_key')\n",
    "unique_submissions = get_unique_records(submission_data, 'account_key')"
   ]
  },
  {
   "cell_type": "code",
   "execution_count": 24,
   "id": "ce17a917",
   "metadata": {},
   "outputs": [],
   "source": [
    "# unique_engagements"
   ]
  },
  {
   "cell_type": "code",
   "execution_count": 25,
   "id": "25e7000a",
   "metadata": {
    "scrolled": false
   },
   "outputs": [
    {
     "name": "stdout",
     "output_type": "stream",
     "text": [
      "1302\n",
      "1237\n",
      "743\n"
     ]
    }
   ],
   "source": [
    "print(len(unique_enrollments))\n",
    "print(len(unique_engagements))\n",
    "print(len(unique_submissions))"
   ]
  },
  {
   "cell_type": "code",
   "execution_count": 26,
   "id": "2f29f6c2",
   "metadata": {
    "scrolled": true
   },
   "outputs": [
    {
     "name": "stdout",
     "output_type": "stream",
     "text": [
      "{'account_key': '1304', 'status': 'canceled', 'join_date': datetime.datetime(2018, 1, 10, 0, 0), 'cancel_date': datetime.datetime(2018, 3, 10, 0, 0), 'days_to_cancel': 59, 'is_enrolled': True, 'is_canceled': True}\n",
      "\n",
      "{'account_key': '1304', 'status': 'canceled', 'join_date': datetime.datetime(2018, 3, 10, 0, 0), 'cancel_date': datetime.datetime(2018, 6, 17, 0, 0), 'days_to_cancel': 99, 'is_enrolled': True, 'is_canceled': True}\n",
      "\n",
      "{'account_key': '1101', 'status': 'current', 'join_date': datetime.datetime(2018, 2, 25, 0, 0), 'cancel_date': None, 'days_to_cancel': None, 'is_enrolled': True, 'is_canceled': False}\n",
      "\n"
     ]
    }
   ],
   "source": [
    "# investigate whether an account_key exists inside of unique_engagements.\n",
    "# if it does not...possible red flag\n",
    "\n",
    "outliers = 0\n",
    "for r in enrollment_data:\n",
    "    if r['account_key'] not in unique_engagements and r['join_date'] != r['cancel_date']:\n",
    "        outliers += 1\n",
    "        print(r, end='\\n\\n')"
   ]
  },
  {
   "cell_type": "code",
   "execution_count": 27,
   "id": "a5a0d053",
   "metadata": {},
   "outputs": [
    {
     "name": "stdout",
     "output_type": "stream",
     "text": [
      "6\n"
     ]
    }
   ],
   "source": [
    "test_accounts = set()\n",
    "for r in enrollment_data:\n",
    "    if r['is_enrolled']:\n",
    "        test_accounts.add(r['account_key'])\n",
    "    \n",
    "print(len(test_accounts))"
   ]
  },
  {
   "cell_type": "code",
   "execution_count": 28,
   "id": "1c25cf85",
   "metadata": {
    "scrolled": true
   },
   "outputs": [
    {
     "data": {
      "text/plain": [
       "{'1069', '1101', '1304', '312', '448', '818'}"
      ]
     },
     "execution_count": 28,
     "metadata": {},
     "output_type": "execute_result"
    }
   ],
   "source": [
    "test_accounts"
   ]
  },
  {
   "cell_type": "code",
   "execution_count": 29,
   "id": "8881c4ff",
   "metadata": {},
   "outputs": [],
   "source": [
    "# for any of the accounts that we found above, we need to remove their corresponding records from the other\n",
    "# dataframe to prevent \"screwing up\" our data findings later down the road\n",
    "def remove_test_accounts(dataset):\n",
    "    records_to_remove = []\n",
    "    for row_dict in dataset:\n",
    "        if row_dict['account_key'] not in test_accounts:\n",
    "            records_to_remove.append(row_dict)\n",
    "    return records_to_remove"
   ]
  },
  {
   "cell_type": "code",
   "execution_count": 30,
   "id": "49511d43",
   "metadata": {},
   "outputs": [],
   "source": [
    "true_enrollments = remove_test_accounts(enrollment_data)\n",
    "true_engagements = remove_test_accounts(engagement_data)\n",
    "true_submissions = remove_test_accounts(submission_data)"
   ]
  },
  {
   "cell_type": "code",
   "execution_count": 31,
   "id": "cb5033a6",
   "metadata": {},
   "outputs": [
    {
     "name": "stdout",
     "output_type": "stream",
     "text": [
      "1622\n",
      "135656\n",
      "3634\n"
     ]
    }
   ],
   "source": [
    "print(len(true_enrollments))\n",
    "print(len(true_engagements))\n",
    "print(len(true_submissions))"
   ]
  },
  {
   "cell_type": "code",
   "execution_count": null,
   "id": "4a441dee",
   "metadata": {},
   "outputs": [],
   "source": []
  },
  {
   "cell_type": "markdown",
   "id": "joint-kruger",
   "metadata": {},
   "source": [
    "<h4>Find quality accounts in which:</h4>\n",
    "<ol>\n",
    "    <li>The account is currently active i.e. is_canceled is False</li>\n",
    "    <li>days_to_cancel is greater than 7 i.e. the trial period</li>\n",
    "    <li>The latest vald record for each particular VALID user</li>\n",
    "</ol>"
   ]
  },
  {
   "cell_type": "code",
   "execution_count": 32,
   "id": "b0697f9c",
   "metadata": {},
   "outputs": [],
   "source": [
    "# {\n",
    "#     '488': datetime()\n",
    "# }"
   ]
  },
  {
   "cell_type": "code",
   "execution_count": 33,
   "id": "1e5e9eaf",
   "metadata": {},
   "outputs": [],
   "source": [
    "accounts_in_good_standing = dict()\n",
    "for row_dict in true_enrollments:\n",
    "    # if account is currently active\n",
    "    if row_dict['days_to_cancel'] is not None and row_dict['cancel_date'] is not None:\n",
    "        # if the difference in days_to_cancel and join_date is greater than the 7-day trial period\n",
    "        if not row_dict['is_canceled'] or row_dict['days_to_cancel'] > 7:\n",
    "            # grab the most recent join_date. we don't care about their previous accounts.\n",
    "            if row_dict['account_key'] not in accounts_in_good_standing or row_dict['join_date'] > accounts_in_good_standing[row_dict['account_key']]:\n",
    "                # create a dictionary key with the account_key number and set its value to the most recent join date\n",
    "                accounts_in_good_standing[row_dict['account_key']] = row_dict['join_date']\n",
    "        "
   ]
  },
  {
   "cell_type": "code",
   "execution_count": 34,
   "id": "d86d2686",
   "metadata": {
    "scrolled": true
   },
   "outputs": [
    {
     "data": {
      "text/plain": [
       "{'429': datetime.datetime(2018, 3, 10, 0, 0),\n",
       " '60': datetime.datetime(2018, 1, 14, 0, 0),\n",
       " '322': datetime.datetime(2018, 2, 12, 0, 0),\n",
       " '584': datetime.datetime(2018, 1, 14, 0, 0),\n",
       " '458': datetime.datetime(2017, 11, 10, 0, 0),\n",
       " '1058': datetime.datetime(2018, 1, 14, 0, 0),\n",
       " '45': datetime.datetime(2017, 11, 10, 0, 0),\n",
       " '315': datetime.datetime(2017, 11, 10, 0, 0),\n",
       " '408': datetime.datetime(2018, 4, 1, 0, 0),\n",
       " '51': datetime.datetime(2018, 3, 10, 0, 0),\n",
       " '323': datetime.datetime(2017, 11, 10, 0, 0),\n",
       " '130': datetime.datetime(2018, 4, 1, 0, 0),\n",
       " '550': datetime.datetime(2018, 5, 28, 0, 0),\n",
       " '44': datetime.datetime(2017, 11, 10, 0, 0),\n",
       " '440': datetime.datetime(2017, 11, 11, 0, 0),\n",
       " '57': datetime.datetime(2017, 11, 11, 0, 0),\n",
       " '1090': datetime.datetime(2017, 11, 11, 0, 0),\n",
       " '541': datetime.datetime(2017, 11, 12, 0, 0),\n",
       " '756': datetime.datetime(2017, 11, 15, 0, 0),\n",
       " '101': datetime.datetime(2017, 11, 12, 0, 0),\n",
       " '800': datetime.datetime(2018, 3, 4, 0, 0),\n",
       " '702': datetime.datetime(2018, 1, 14, 0, 0),\n",
       " '744': datetime.datetime(2017, 11, 14, 0, 0),\n",
       " '217': datetime.datetime(2017, 11, 15, 0, 0),\n",
       " '1211': datetime.datetime(2017, 11, 15, 0, 0),\n",
       " '53': datetime.datetime(2017, 11, 14, 0, 0),\n",
       " '338': datetime.datetime(2018, 2, 3, 0, 0),\n",
       " '253': datetime.datetime(2017, 11, 16, 0, 0),\n",
       " '178': datetime.datetime(2017, 11, 17, 0, 0),\n",
       " '822': datetime.datetime(2017, 11, 17, 0, 0),\n",
       " '123': datetime.datetime(2018, 3, 10, 0, 0),\n",
       " '1204': datetime.datetime(2017, 11, 10, 0, 0),\n",
       " '394': datetime.datetime(2017, 11, 10, 0, 0),\n",
       " '1253': datetime.datetime(2017, 11, 10, 0, 0),\n",
       " '504': datetime.datetime(2017, 11, 10, 0, 0),\n",
       " '72': datetime.datetime(2017, 11, 10, 0, 0),\n",
       " '268': datetime.datetime(2018, 4, 3, 0, 0),\n",
       " '339': datetime.datetime(2018, 4, 1, 0, 0),\n",
       " '1244': datetime.datetime(2018, 5, 17, 0, 0),\n",
       " '752': datetime.datetime(2017, 11, 10, 0, 0),\n",
       " '520': datetime.datetime(2017, 11, 10, 0, 0),\n",
       " '367': datetime.datetime(2017, 11, 11, 0, 0),\n",
       " '258': datetime.datetime(2017, 11, 10, 0, 0),\n",
       " '329': datetime.datetime(2018, 3, 10, 0, 0),\n",
       " '612': datetime.datetime(2017, 11, 10, 0, 0),\n",
       " '150': datetime.datetime(2017, 11, 10, 0, 0),\n",
       " '179': datetime.datetime(2017, 11, 10, 0, 0),\n",
       " '587': datetime.datetime(2018, 1, 14, 0, 0),\n",
       " '439': datetime.datetime(2017, 11, 10, 0, 0),\n",
       " '18': datetime.datetime(2017, 11, 10, 0, 0),\n",
       " '544': datetime.datetime(2017, 11, 10, 0, 0),\n",
       " '913': datetime.datetime(2018, 1, 14, 0, 0),\n",
       " '576': datetime.datetime(2017, 11, 10, 0, 0),\n",
       " '431': datetime.datetime(2017, 11, 10, 0, 0),\n",
       " '480': datetime.datetime(2018, 3, 10, 0, 0),\n",
       " '525': datetime.datetime(2017, 11, 10, 0, 0),\n",
       " '1111': datetime.datetime(2018, 4, 1, 0, 0),\n",
       " '1107': datetime.datetime(2017, 11, 11, 0, 0),\n",
       " '577': datetime.datetime(2018, 2, 5, 0, 0),\n",
       " '92': datetime.datetime(2017, 11, 12, 0, 0),\n",
       " '335': datetime.datetime(2017, 11, 12, 0, 0),\n",
       " '693': datetime.datetime(2018, 1, 14, 0, 0),\n",
       " '88': datetime.datetime(2018, 3, 10, 0, 0),\n",
       " '983': datetime.datetime(2018, 1, 14, 0, 0),\n",
       " '1118': datetime.datetime(2017, 11, 17, 0, 0),\n",
       " '499': datetime.datetime(2018, 2, 6, 0, 0),\n",
       " '590': datetime.datetime(2018, 2, 3, 0, 0),\n",
       " '264': datetime.datetime(2018, 2, 3, 0, 0),\n",
       " '1130': datetime.datetime(2017, 12, 3, 0, 0),\n",
       " '736': datetime.datetime(2017, 12, 4, 0, 0),\n",
       " '976': datetime.datetime(2017, 12, 4, 0, 0),\n",
       " '316': datetime.datetime(2017, 12, 6, 0, 0),\n",
       " '347': datetime.datetime(2017, 12, 7, 0, 0),\n",
       " '343': datetime.datetime(2017, 12, 7, 0, 0),\n",
       " '221': datetime.datetime(2017, 12, 3, 0, 0),\n",
       " '631': datetime.datetime(2018, 5, 8, 0, 0),\n",
       " '1009': datetime.datetime(2017, 12, 5, 0, 0),\n",
       " '909': datetime.datetime(2017, 12, 5, 0, 0),\n",
       " '524': datetime.datetime(2017, 12, 6, 0, 0),\n",
       " '759': datetime.datetime(2018, 2, 3, 0, 0),\n",
       " '896': datetime.datetime(2018, 3, 10, 0, 0),\n",
       " '411': datetime.datetime(2018, 4, 8, 0, 0),\n",
       " '705': datetime.datetime(2018, 4, 8, 0, 0),\n",
       " '776': datetime.datetime(2017, 12, 8, 0, 0),\n",
       " '557': datetime.datetime(2018, 2, 3, 0, 0),\n",
       " '634': datetime.datetime(2017, 12, 9, 0, 0),\n",
       " '1124': datetime.datetime(2018, 2, 3, 0, 0),\n",
       " '932': datetime.datetime(2017, 12, 9, 0, 0),\n",
       " '169': datetime.datetime(2018, 2, 5, 0, 0),\n",
       " '229': datetime.datetime(2018, 1, 7, 0, 0),\n",
       " '622': datetime.datetime(2018, 1, 8, 0, 0),\n",
       " '730': datetime.datetime(2018, 1, 8, 0, 0),\n",
       " '905': datetime.datetime(2018, 1, 8, 0, 0),\n",
       " '170': datetime.datetime(2018, 1, 9, 0, 0),\n",
       " '467': datetime.datetime(2018, 1, 10, 0, 0),\n",
       " '780': datetime.datetime(2018, 1, 11, 0, 0),\n",
       " '418': datetime.datetime(2018, 1, 11, 0, 0),\n",
       " '1074': datetime.datetime(2018, 3, 10, 0, 0),\n",
       " '859': datetime.datetime(2018, 1, 11, 0, 0),\n",
       " '91': datetime.datetime(2017, 11, 10, 0, 0),\n",
       " '3': datetime.datetime(2017, 11, 10, 0, 0),\n",
       " '157': datetime.datetime(2018, 3, 10, 0, 0),\n",
       " '378': datetime.datetime(2018, 3, 10, 0, 0),\n",
       " '1214': datetime.datetime(2017, 11, 10, 0, 0),\n",
       " '483': datetime.datetime(2017, 11, 10, 0, 0),\n",
       " '1094': datetime.datetime(2017, 11, 10, 0, 0),\n",
       " '882': datetime.datetime(2017, 11, 10, 0, 0),\n",
       " '412': datetime.datetime(2018, 3, 10, 0, 0),\n",
       " '366': datetime.datetime(2018, 4, 1, 0, 0),\n",
       " '696': datetime.datetime(2017, 11, 10, 0, 0),\n",
       " '1142': datetime.datetime(2018, 3, 10, 0, 0),\n",
       " '148': datetime.datetime(2018, 4, 1, 0, 0),\n",
       " '630': datetime.datetime(2017, 11, 11, 0, 0),\n",
       " '1011': datetime.datetime(2018, 4, 8, 0, 0),\n",
       " '161': datetime.datetime(2017, 11, 12, 0, 0),\n",
       " '441': datetime.datetime(2017, 11, 12, 0, 0),\n",
       " '712': datetime.datetime(2017, 11, 13, 0, 0),\n",
       " '76': datetime.datetime(2017, 11, 15, 0, 0),\n",
       " '938': datetime.datetime(2017, 11, 14, 0, 0),\n",
       " '829': datetime.datetime(2017, 11, 15, 0, 0),\n",
       " '203': datetime.datetime(2018, 5, 12, 0, 0),\n",
       " '563': datetime.datetime(2017, 12, 3, 0, 0),\n",
       " '1167': datetime.datetime(2017, 12, 3, 0, 0),\n",
       " '643': datetime.datetime(2018, 4, 8, 0, 0),\n",
       " '110': datetime.datetime(2017, 12, 3, 0, 0),\n",
       " '1289': datetime.datetime(2017, 12, 4, 0, 0),\n",
       " '500': datetime.datetime(2017, 12, 5, 0, 0),\n",
       " '1160': datetime.datetime(2017, 12, 5, 0, 0),\n",
       " '64': datetime.datetime(2017, 12, 6, 0, 0),\n",
       " '637': datetime.datetime(2018, 5, 6, 0, 0),\n",
       " '52': datetime.datetime(2017, 12, 7, 0, 0),\n",
       " '111': datetime.datetime(2017, 12, 7, 0, 0),\n",
       " '583': datetime.datetime(2017, 12, 8, 0, 0),\n",
       " '1199': datetime.datetime(2017, 12, 8, 0, 0),\n",
       " '743': datetime.datetime(2017, 12, 9, 0, 0),\n",
       " '474': datetime.datetime(2017, 12, 9, 0, 0),\n",
       " '667': datetime.datetime(2017, 12, 9, 0, 0),\n",
       " '1095': datetime.datetime(2018, 6, 6, 0, 0),\n",
       " '79': datetime.datetime(2017, 12, 9, 0, 0),\n",
       " '197': datetime.datetime(2018, 1, 7, 0, 0),\n",
       " '67': datetime.datetime(2018, 1, 7, 0, 0),\n",
       " '678': datetime.datetime(2018, 1, 8, 0, 0),\n",
       " '873': datetime.datetime(2018, 1, 8, 0, 0),\n",
       " '623': datetime.datetime(2018, 1, 8, 0, 0),\n",
       " '507': datetime.datetime(2018, 1, 9, 0, 0),\n",
       " '270': datetime.datetime(2018, 1, 9, 0, 0),\n",
       " '362': datetime.datetime(2018, 2, 5, 0, 0),\n",
       " '263': datetime.datetime(2018, 6, 1, 0, 0),\n",
       " '965': datetime.datetime(2018, 1, 10, 0, 0),\n",
       " '761': datetime.datetime(2018, 1, 11, 0, 0),\n",
       " '785': datetime.datetime(2018, 4, 8, 0, 0),\n",
       " '989': datetime.datetime(2018, 4, 8, 0, 0),\n",
       " '682': datetime.datetime(2018, 4, 8, 0, 0),\n",
       " '671': datetime.datetime(2017, 12, 9, 0, 0),\n",
       " '1121': datetime.datetime(2018, 1, 12, 0, 0),\n",
       " '966': datetime.datetime(2018, 1, 7, 0, 0),\n",
       " '442': datetime.datetime(2018, 3, 15, 0, 0),\n",
       " '5': datetime.datetime(2018, 1, 7, 0, 0),\n",
       " '34': datetime.datetime(2018, 1, 8, 0, 0),\n",
       " '824': datetime.datetime(2018, 2, 10, 0, 0),\n",
       " '1060': datetime.datetime(2018, 1, 11, 0, 0),\n",
       " '227': datetime.datetime(2017, 11, 12, 0, 0),\n",
       " '599': datetime.datetime(2018, 1, 14, 0, 0),\n",
       " '181': datetime.datetime(2017, 11, 13, 0, 0),\n",
       " '639': datetime.datetime(2017, 11, 13, 0, 0),\n",
       " '1303': datetime.datetime(2018, 4, 8, 0, 0),\n",
       " '969': datetime.datetime(2017, 11, 14, 0, 0),\n",
       " '972': datetime.datetime(2018, 3, 10, 0, 0),\n",
       " '334': datetime.datetime(2017, 11, 16, 0, 0),\n",
       " '1277': datetime.datetime(2018, 1, 14, 0, 0),\n",
       " '1071': datetime.datetime(2018, 1, 14, 0, 0),\n",
       " '923': datetime.datetime(2018, 1, 14, 0, 0),\n",
       " '640': datetime.datetime(2018, 3, 10, 0, 0),\n",
       " '1174': datetime.datetime(2018, 2, 3, 0, 0),\n",
       " '1019': datetime.datetime(2017, 11, 11, 0, 0),\n",
       " '655': datetime.datetime(2017, 11, 10, 0, 0),\n",
       " '529': datetime.datetime(2017, 12, 8, 0, 0),\n",
       " '256': datetime.datetime(2018, 4, 1, 0, 0),\n",
       " '523': datetime.datetime(2018, 1, 12, 0, 0),\n",
       " '24': datetime.datetime(2017, 12, 3, 0, 0),\n",
       " '397': datetime.datetime(2017, 12, 4, 0, 0),\n",
       " '265': datetime.datetime(2017, 12, 4, 0, 0),\n",
       " '650': datetime.datetime(2018, 3, 4, 0, 0),\n",
       " '1013': datetime.datetime(2018, 4, 1, 0, 0),\n",
       " '618': datetime.datetime(2017, 12, 5, 0, 0),\n",
       " '1236': datetime.datetime(2017, 12, 5, 0, 0),\n",
       " '866': datetime.datetime(2017, 12, 7, 0, 0),\n",
       " '1201': datetime.datetime(2017, 12, 7, 0, 0),\n",
       " '193': datetime.datetime(2017, 12, 8, 0, 0),\n",
       " '710': datetime.datetime(2018, 2, 3, 0, 0),\n",
       " '180': datetime.datetime(2018, 3, 10, 0, 0),\n",
       " '722': datetime.datetime(2018, 3, 10, 0, 0),\n",
       " '954': datetime.datetime(2018, 3, 10, 0, 0),\n",
       " '140': datetime.datetime(2017, 11, 10, 0, 0),\n",
       " '1139': datetime.datetime(2018, 1, 16, 0, 0),\n",
       " '388': datetime.datetime(2017, 12, 8, 0, 0),\n",
       " '147': datetime.datetime(2017, 12, 3, 0, 0),\n",
       " '119': datetime.datetime(2018, 2, 3, 0, 0),\n",
       " '97': datetime.datetime(2018, 2, 5, 0, 0),\n",
       " '984': datetime.datetime(2018, 2, 5, 0, 0),\n",
       " '444': datetime.datetime(2018, 2, 5, 0, 0),\n",
       " '386': datetime.datetime(2018, 4, 8, 0, 0),\n",
       " '649': datetime.datetime(2017, 11, 10, 0, 0),\n",
       " '165': datetime.datetime(2017, 11, 10, 0, 0),\n",
       " '580': datetime.datetime(2017, 11, 10, 0, 0),\n",
       " '919': datetime.datetime(2017, 11, 10, 0, 0),\n",
       " '90': datetime.datetime(2018, 3, 10, 0, 0),\n",
       " '864': datetime.datetime(2017, 11, 10, 0, 0),\n",
       " '626': datetime.datetime(2018, 3, 4, 0, 0),\n",
       " '1117': datetime.datetime(2017, 11, 11, 0, 0),\n",
       " '187': datetime.datetime(2017, 11, 12, 0, 0),\n",
       " '547': datetime.datetime(2018, 2, 3, 0, 0),\n",
       " '159': datetime.datetime(2017, 12, 9, 0, 0),\n",
       " '1226': datetime.datetime(2018, 4, 8, 0, 0),\n",
       " '857': datetime.datetime(2018, 2, 6, 0, 0),\n",
       " '143': datetime.datetime(2018, 2, 9, 0, 0),\n",
       " '138': datetime.datetime(2018, 2, 10, 0, 0),\n",
       " '952': datetime.datetime(2018, 2, 11, 0, 0),\n",
       " '416': datetime.datetime(2018, 4, 8, 0, 0),\n",
       " '477': datetime.datetime(2018, 3, 4, 0, 0),\n",
       " '132': datetime.datetime(2018, 3, 4, 0, 0),\n",
       " '624': datetime.datetime(2018, 3, 4, 0, 0),\n",
       " '1247': datetime.datetime(2018, 3, 5, 0, 0),\n",
       " '251': datetime.datetime(2018, 2, 6, 0, 0),\n",
       " '709': datetime.datetime(2018, 2, 8, 0, 0),\n",
       " '564': datetime.datetime(2018, 2, 8, 0, 0),\n",
       " '792': datetime.datetime(2018, 2, 9, 0, 0),\n",
       " '833': datetime.datetime(2018, 2, 9, 0, 0),\n",
       " '823': datetime.datetime(2018, 4, 8, 0, 0),\n",
       " '348': datetime.datetime(2018, 2, 5, 0, 0),\n",
       " '185': datetime.datetime(2018, 3, 10, 0, 0),\n",
       " '855': datetime.datetime(2017, 11, 14, 0, 0),\n",
       " '191': datetime.datetime(2017, 11, 16, 0, 0),\n",
       " '261': datetime.datetime(2017, 11, 16, 0, 0),\n",
       " '415': datetime.datetime(2017, 11, 16, 0, 0),\n",
       " '868': datetime.datetime(2017, 11, 16, 0, 0),\n",
       " '719': datetime.datetime(2017, 11, 17, 0, 0),\n",
       " '836': datetime.datetime(2017, 12, 9, 0, 0),\n",
       " '108': datetime.datetime(2018, 4, 20, 0, 0),\n",
       " '285': datetime.datetime(2018, 1, 7, 0, 0),\n",
       " '698': datetime.datetime(2018, 1, 8, 0, 0),\n",
       " '427': datetime.datetime(2018, 1, 9, 0, 0),\n",
       " '1212': datetime.datetime(2018, 7, 19, 0, 0),\n",
       " '1140': datetime.datetime(2018, 1, 10, 0, 0),\n",
       " '505': datetime.datetime(2018, 3, 7, 0, 0),\n",
       " '171': datetime.datetime(2018, 3, 8, 0, 0),\n",
       " '1102': datetime.datetime(2018, 4, 8, 0, 0),\n",
       " '1287': datetime.datetime(2018, 3, 10, 0, 0),\n",
       " '1254': datetime.datetime(2018, 1, 10, 0, 0),\n",
       " '1259': datetime.datetime(2018, 1, 13, 0, 0),\n",
       " '1128': datetime.datetime(2018, 3, 11, 0, 0),\n",
       " '78': datetime.datetime(2017, 12, 8, 0, 0),\n",
       " '558': datetime.datetime(2017, 12, 3, 0, 0),\n",
       " '153': datetime.datetime(2018, 4, 1, 0, 0),\n",
       " '473': datetime.datetime(2018, 4, 1, 0, 0),\n",
       " '106': datetime.datetime(2017, 11, 11, 0, 0),\n",
       " '74': datetime.datetime(2018, 4, 1, 0, 0),\n",
       " '591': datetime.datetime(2018, 3, 10, 0, 0),\n",
       " '419': datetime.datetime(2018, 3, 10, 0, 0),\n",
       " '31': datetime.datetime(2017, 11, 10, 0, 0),\n",
       " '69': datetime.datetime(2018, 3, 10, 0, 0),\n",
       " '906': datetime.datetime(2017, 11, 17, 0, 0),\n",
       " '601': datetime.datetime(2017, 11, 10, 0, 0),\n",
       " '321': datetime.datetime(2018, 3, 10, 0, 0),\n",
       " '99': datetime.datetime(2018, 3, 10, 0, 0),\n",
       " '1103': datetime.datetime(2018, 3, 10, 0, 0),\n",
       " '1066': datetime.datetime(2018, 3, 10, 0, 0),\n",
       " '571': datetime.datetime(2017, 12, 8, 0, 0),\n",
       " '426': datetime.datetime(2018, 5, 7, 0, 0),\n",
       " '98': datetime.datetime(2018, 4, 2, 0, 0),\n",
       " '757': datetime.datetime(2018, 1, 11, 0, 0),\n",
       " '151': datetime.datetime(2018, 1, 11, 0, 0),\n",
       " '534': datetime.datetime(2018, 1, 12, 0, 0),\n",
       " '597': datetime.datetime(2018, 1, 12, 0, 0),\n",
       " '1242': datetime.datetime(2018, 1, 12, 0, 0),\n",
       " '732': datetime.datetime(2018, 1, 12, 0, 0),\n",
       " '168': datetime.datetime(2018, 2, 5, 0, 0),\n",
       " '657': datetime.datetime(2018, 3, 10, 0, 0),\n",
       " '831': datetime.datetime(2017, 12, 3, 0, 0),\n",
       " '1015': datetime.datetime(2017, 12, 3, 0, 0),\n",
       " '611': datetime.datetime(2017, 12, 8, 0, 0),\n",
       " '62': datetime.datetime(2017, 12, 8, 0, 0),\n",
       " '697': datetime.datetime(2017, 12, 8, 0, 0),\n",
       " '43': datetime.datetime(2017, 12, 8, 0, 0),\n",
       " '769': datetime.datetime(2018, 4, 3, 0, 0),\n",
       " '1123': datetime.datetime(2018, 4, 3, 0, 0),\n",
       " '918': datetime.datetime(2018, 4, 6, 0, 0),\n",
       " '1248': datetime.datetime(2018, 4, 6, 0, 0),\n",
       " '1189': datetime.datetime(2018, 4, 7, 0, 0),\n",
       " '1285': datetime.datetime(2018, 4, 7, 0, 0),\n",
       " '844': datetime.datetime(2018, 4, 7, 0, 0),\n",
       " '690': datetime.datetime(2018, 2, 5, 0, 0),\n",
       " '641': datetime.datetime(2018, 4, 7, 0, 0),\n",
       " '404': datetime.datetime(2018, 4, 8, 0, 0),\n",
       " '105': datetime.datetime(2018, 4, 7, 0, 0),\n",
       " '1299': datetime.datetime(2018, 2, 5, 0, 0),\n",
       " '589': datetime.datetime(2018, 2, 5, 0, 0),\n",
       " '793': datetime.datetime(2018, 4, 8, 0, 0),\n",
       " '243': datetime.datetime(2017, 11, 16, 0, 0),\n",
       " '1163': datetime.datetime(2018, 5, 6, 0, 0),\n",
       " '948': datetime.datetime(2018, 5, 6, 0, 0),\n",
       " '1202': datetime.datetime(2018, 5, 7, 0, 0),\n",
       " '867': datetime.datetime(2017, 12, 9, 0, 0),\n",
       " '1292': datetime.datetime(2018, 1, 7, 0, 0),\n",
       " '93': datetime.datetime(2018, 1, 7, 0, 0),\n",
       " '460': datetime.datetime(2018, 1, 7, 0, 0),\n",
       " '610': datetime.datetime(2018, 1, 7, 0, 0),\n",
       " '670': datetime.datetime(2018, 1, 8, 0, 0),\n",
       " '900': datetime.datetime(2018, 1, 10, 0, 0),\n",
       " '1053': datetime.datetime(2018, 1, 11, 0, 0),\n",
       " '934': datetime.datetime(2018, 1, 11, 0, 0),\n",
       " '746': datetime.datetime(2018, 2, 5, 0, 0),\n",
       " '279': datetime.datetime(2018, 2, 5, 0, 0),\n",
       " '136': datetime.datetime(2018, 2, 5, 0, 0),\n",
       " '1042': datetime.datetime(2018, 5, 28, 0, 0),\n",
       " '413': datetime.datetime(2018, 2, 6, 0, 0),\n",
       " '306': datetime.datetime(2018, 2, 8, 0, 0),\n",
       " '284': datetime.datetime(2018, 2, 9, 0, 0),\n",
       " '521': datetime.datetime(2018, 4, 8, 0, 0),\n",
       " '1049': datetime.datetime(2018, 2, 10, 0, 0),\n",
       " '1198': datetime.datetime(2018, 3, 4, 0, 0),\n",
       " '720': datetime.datetime(2018, 3, 4, 0, 0),\n",
       " '958': datetime.datetime(2018, 3, 4, 0, 0),\n",
       " '718': datetime.datetime(2018, 5, 8, 0, 0),\n",
       " '293': datetime.datetime(2018, 5, 10, 0, 0),\n",
       " '858': datetime.datetime(2018, 5, 12, 0, 0),\n",
       " '713': datetime.datetime(2018, 5, 12, 0, 0),\n",
       " '1040': datetime.datetime(2018, 5, 12, 0, 0),\n",
       " '1305': datetime.datetime(2018, 5, 12, 0, 0),\n",
       " '25': datetime.datetime(2017, 11, 11, 0, 0),\n",
       " '988': datetime.datetime(2018, 5, 13, 0, 0),\n",
       " '877': datetime.datetime(2018, 5, 13, 0, 0),\n",
       " '42': datetime.datetime(2018, 3, 4, 0, 0),\n",
       " '704': datetime.datetime(2018, 5, 6, 0, 0),\n",
       " '407': datetime.datetime(2018, 5, 6, 0, 0),\n",
       " '1029': datetime.datetime(2018, 5, 12, 0, 0),\n",
       " '465': datetime.datetime(2018, 2, 5, 0, 0),\n",
       " '208': datetime.datetime(2018, 3, 8, 0, 0),\n",
       " '1260': datetime.datetime(2018, 3, 11, 0, 0),\n",
       " '1194': datetime.datetime(2018, 3, 11, 0, 0),\n",
       " '361': datetime.datetime(2018, 5, 13, 0, 0),\n",
       " '220': datetime.datetime(2018, 4, 7, 0, 0),\n",
       " '1266': datetime.datetime(2018, 6, 7, 0, 0),\n",
       " '735': datetime.datetime(2018, 4, 14, 0, 0),\n",
       " '1183': datetime.datetime(2018, 7, 17, 0, 0),\n",
       " '804': datetime.datetime(2018, 6, 9, 0, 0),\n",
       " '1208': datetime.datetime(2018, 2, 5, 0, 0),\n",
       " '1207': datetime.datetime(2018, 2, 6, 0, 0),\n",
       " '602': datetime.datetime(2018, 2, 6, 0, 0),\n",
       " '1153': datetime.datetime(2018, 2, 6, 0, 0),\n",
       " '1210': datetime.datetime(2018, 2, 7, 0, 0),\n",
       " '916': datetime.datetime(2018, 2, 8, 0, 0),\n",
       " '666': datetime.datetime(2018, 2, 9, 0, 0),\n",
       " '753': datetime.datetime(2018, 3, 5, 0, 0),\n",
       " '141': datetime.datetime(2018, 3, 7, 0, 0),\n",
       " '729': datetime.datetime(2018, 4, 3, 0, 0),\n",
       " '1089': datetime.datetime(2018, 4, 6, 0, 0),\n",
       " '651': datetime.datetime(2018, 4, 6, 0, 0),\n",
       " '1054': datetime.datetime(2018, 4, 7, 0, 0),\n",
       " '289': datetime.datetime(2018, 4, 7, 0, 0),\n",
       " '796': datetime.datetime(2018, 4, 7, 0, 0),\n",
       " '1205': datetime.datetime(2018, 7, 17, 0, 0),\n",
       " '856': datetime.datetime(2018, 7, 18, 0, 0),\n",
       " '786': datetime.datetime(2018, 4, 2, 0, 0),\n",
       " '1264': datetime.datetime(2018, 4, 2, 0, 0),\n",
       " '1088': datetime.datetime(2018, 4, 3, 0, 0),\n",
       " '811': datetime.datetime(2018, 5, 6, 0, 0),\n",
       " '825': datetime.datetime(2018, 5, 9, 0, 0),\n",
       " '1055': datetime.datetime(2018, 5, 8, 0, 0),\n",
       " '1215': datetime.datetime(2018, 5, 11, 0, 0),\n",
       " '1030': datetime.datetime(2018, 5, 11, 0, 0),\n",
       " '955': datetime.datetime(2018, 5, 11, 0, 0),\n",
       " '142': datetime.datetime(2018, 1, 12, 0, 0),\n",
       " '1038': datetime.datetime(2018, 4, 4, 0, 0),\n",
       " '1170': datetime.datetime(2018, 4, 5, 0, 0),\n",
       " '1268': datetime.datetime(2018, 4, 6, 0, 0),\n",
       " '706': datetime.datetime(2018, 4, 7, 0, 0),\n",
       " '606': datetime.datetime(2018, 4, 8, 0, 0),\n",
       " '669': datetime.datetime(2018, 5, 12, 0, 0),\n",
       " '569': datetime.datetime(2018, 6, 2, 0, 0),\n",
       " '912': datetime.datetime(2018, 6, 6, 0, 0),\n",
       " '1062': datetime.datetime(2018, 5, 10, 0, 0),\n",
       " '956': datetime.datetime(2018, 6, 8, 0, 0),\n",
       " '777': datetime.datetime(2018, 6, 8, 0, 0),\n",
       " '402': datetime.datetime(2018, 1, 12, 0, 0),\n",
       " '15': datetime.datetime(2018, 3, 4, 0, 0),\n",
       " '134': datetime.datetime(2018, 2, 5, 0, 0),\n",
       " '1033': datetime.datetime(2018, 2, 6, 0, 0),\n",
       " '512': datetime.datetime(2017, 11, 10, 0, 0),\n",
       " '1243': datetime.datetime(2017, 11, 10, 0, 0),\n",
       " '1220': datetime.datetime(2017, 11, 10, 0, 0),\n",
       " '85': datetime.datetime(2017, 11, 11, 0, 0),\n",
       " '160': datetime.datetime(2017, 11, 11, 0, 0),\n",
       " '636': datetime.datetime(2018, 3, 5, 0, 0),\n",
       " '423': datetime.datetime(2018, 2, 9, 0, 0),\n",
       " '190': datetime.datetime(2018, 2, 11, 0, 0),\n",
       " '692': datetime.datetime(2018, 2, 11, 0, 0),\n",
       " '259': datetime.datetime(2018, 4, 7, 0, 0),\n",
       " '839': datetime.datetime(2017, 11, 13, 0, 0),\n",
       " '1161': datetime.datetime(2017, 11, 13, 0, 0),\n",
       " '1146': datetime.datetime(2017, 11, 16, 0, 0),\n",
       " '65': datetime.datetime(2017, 11, 16, 0, 0),\n",
       " '787': datetime.datetime(2017, 11, 16, 0, 0),\n",
       " '941': datetime.datetime(2018, 3, 10, 0, 0),\n",
       " '985': datetime.datetime(2018, 3, 11, 0, 0),\n",
       " '835': datetime.datetime(2017, 12, 3, 0, 0),\n",
       " '549': datetime.datetime(2017, 12, 3, 0, 0),\n",
       " '660': datetime.datetime(2017, 12, 3, 0, 0),\n",
       " '174': datetime.datetime(2017, 12, 3, 0, 0),\n",
       " '514': datetime.datetime(2017, 12, 4, 0, 0),\n",
       " '778': datetime.datetime(2017, 12, 7, 0, 0),\n",
       " '801': datetime.datetime(2017, 12, 8, 0, 0),\n",
       " '1077': datetime.datetime(2017, 12, 8, 0, 0),\n",
       " '808': datetime.datetime(2017, 12, 8, 0, 0),\n",
       " '528': datetime.datetime(2018, 4, 3, 0, 0),\n",
       " '1115': datetime.datetime(2018, 4, 8, 0, 0),\n",
       " '447': datetime.datetime(2018, 4, 24, 0, 0),\n",
       " '272': datetime.datetime(2018, 1, 8, 0, 0),\n",
       " '434': datetime.datetime(2018, 1, 12, 0, 0),\n",
       " '532': datetime.datetime(2018, 1, 12, 0, 0),\n",
       " '937': datetime.datetime(2018, 5, 6, 0, 0),\n",
       " '927': datetime.datetime(2018, 5, 13, 0, 0),\n",
       " '1022': datetime.datetime(2018, 5, 7, 0, 0),\n",
       " '410': datetime.datetime(2018, 5, 12, 0, 0),\n",
       " '1007': datetime.datetime(2018, 5, 12, 0, 0),\n",
       " '645': datetime.datetime(2018, 2, 9, 0, 0),\n",
       " '1217': datetime.datetime(2018, 6, 6, 0, 0),\n",
       " '762': datetime.datetime(2018, 6, 8, 0, 0),\n",
       " '897': datetime.datetime(2018, 6, 8, 0, 0),\n",
       " '1075': datetime.datetime(2018, 6, 9, 0, 0),\n",
       " '1188': datetime.datetime(2018, 2, 10, 0, 0),\n",
       " '1200': datetime.datetime(2018, 3, 4, 0, 0),\n",
       " '113': datetime.datetime(2018, 3, 4, 0, 0),\n",
       " '1082': datetime.datetime(2018, 3, 6, 0, 0),\n",
       " '828': datetime.datetime(2018, 3, 9, 0, 0),\n",
       " '1175': datetime.datetime(2018, 4, 2, 0, 0),\n",
       " '19': datetime.datetime(2018, 4, 6, 0, 0),\n",
       " '726': datetime.datetime(2018, 4, 8, 0, 0),\n",
       " '779': datetime.datetime(2018, 5, 10, 0, 0),\n",
       " '1249': datetime.datetime(2018, 5, 11, 0, 0),\n",
       " '1099': datetime.datetime(2018, 5, 11, 0, 0),\n",
       " '846': datetime.datetime(2018, 5, 12, 0, 0),\n",
       " '1052': datetime.datetime(2018, 5, 12, 0, 0),\n",
       " '661': datetime.datetime(2018, 5, 12, 0, 0),\n",
       " '1178': datetime.datetime(2018, 7, 16, 0, 0)}"
      ]
     },
     "execution_count": 34,
     "metadata": {},
     "output_type": "execute_result"
    }
   ],
   "source": [
    "accounts_in_good_standing"
   ]
  },
  {
   "cell_type": "code",
   "execution_count": null,
   "id": "7949b083",
   "metadata": {},
   "outputs": [],
   "source": []
  },
  {
   "cell_type": "code",
   "execution_count": 35,
   "id": "88dd750e",
   "metadata": {},
   "outputs": [],
   "source": [
    "def remove_free_trials(dataset):\n",
    "    free_trials_list = []\n",
    "    for row_dict in dataset:\n",
    "        if row_dict['account_key'] in accounts_in_good_standing:\n",
    "            free_trials_list.append(row_dict)\n",
    "    return free_trials_list"
   ]
  },
  {
   "cell_type": "code",
   "execution_count": 36,
   "id": "cab59b3e",
   "metadata": {},
   "outputs": [],
   "source": [
    "quality_enrollments = remove_free_trials(true_enrollments)\n",
    "quality_engagements = remove_free_trials(true_engagements)\n",
    "quality_submissions = remove_free_trials(true_submissions)"
   ]
  },
  {
   "cell_type": "code",
   "execution_count": 37,
   "id": "5bb06e2c",
   "metadata": {},
   "outputs": [
    {
     "name": "stdout",
     "output_type": "stream",
     "text": [
      "719\n",
      "55675\n",
      "1110\n"
     ]
    }
   ],
   "source": [
    "print(len(quality_enrollments))\n",
    "print(len(quality_engagements))\n",
    "print(len(quality_submissions))"
   ]
  },
  {
   "cell_type": "markdown",
   "id": "first-mileage",
   "metadata": {},
   "source": [
    "### Step 3: Answer Questions with Data"
   ]
  },
  {
   "cell_type": "code",
   "execution_count": 37,
   "id": "conservative-sperm",
   "metadata": {},
   "outputs": [],
   "source": [
    "# HOMEWORK:\n",
    "\n",
    "# Take a look at data and come up with 3 good questions and use some of the methods done in this \n",
    "# Jupyter Notebook to successfully answer the questions."
   ]
  },
  {
   "cell_type": "code",
   "execution_count": 54,
   "id": "ccf42ac8",
   "metadata": {},
   "outputs": [
    {
     "name": "stdout",
     "output_type": "stream",
     "text": [
      "6071\n"
     ]
    }
   ],
   "source": [
    "# 1.How many lessons in total were completed by students?\n",
    "\n",
    "lessons_completed = []\n",
    "for r in quality_engagements:\n",
    "    if r['lessons_completed']:\n",
    "        lessons_completed.append(r['lessons_completed'])\n",
    "\n",
    "print(sum(lessons_completed))"
   ]
  },
  {
   "cell_type": "code",
   "execution_count": 88,
   "id": "797efe5c",
   "metadata": {},
   "outputs": [
    {
     "name": "stdout",
     "output_type": "stream",
     "text": [
      "505\n",
      "26\n",
      "566\n",
      "11\n"
     ]
    }
   ],
   "source": [
    "# 2. How many passed, incomplete, distinction, and ungraded assignments were there?\n",
    "\n",
    "passed = []\n",
    "ungraded= []\n",
    "incomplete= []\n",
    "distinction=[]\n",
    "\n",
    "for r in quality_submissions:\n",
    "    if r['assigned_rating'].count('PASSED'):\n",
    "        passed.append(r['assigned_rating'])\n",
    "    elif r['assigned_rating'].count('UNGRADED'):\n",
    "        ungraded.append(r['assigned_rating'])\n",
    "    elif r['assigned_rating'].count('INCOMPLETE'):\n",
    "        incomplete.append(r['assigned_rating'])\n",
    "    elif r['assigned_rating'].count('DISTINCTION'):\n",
    "        distinction.append(r['assigned_rating'])\n",
    "        \n",
    "    \n",
    "print(len(passed)) \n",
    "print(len(ungraded))\n",
    "print(len(incomplete))\n",
    "print(len(distinction))"
   ]
  },
  {
   "cell_type": "code",
   "execution_count": 96,
   "id": "a5d9e4f9",
   "metadata": {},
   "outputs": [
    {
     "name": "stdout",
     "output_type": "stream",
     "text": [
      "67.89739413680782\n"
     ]
    }
   ],
   "source": [
    "# 3. What is the average number of days to cancel?\n",
    "\n",
    "import statistics\n",
    "\n",
    "days_to_cancel = []\n",
    "\n",
    "for r in quality_enrollments:\n",
    "        if r['days_to_cancel']:\n",
    "            days_to_cancel.append(r['days_to_cancel'])\n",
    "            \n",
    "print(statistics.mean(days_to_cancel))"
   ]
  },
  {
   "cell_type": "code",
   "execution_count": null,
   "id": "3eb376e0",
   "metadata": {},
   "outputs": [],
   "source": []
  }
 ],
 "metadata": {
  "kernelspec": {
   "display_name": "Python 3 (ipykernel)",
   "language": "python",
   "name": "python3"
  },
  "language_info": {
   "codemirror_mode": {
    "name": "ipython",
    "version": 3
   },
   "file_extension": ".py",
   "mimetype": "text/x-python",
   "name": "python",
   "nbconvert_exporter": "python",
   "pygments_lexer": "ipython3",
   "version": "3.9.7"
  }
 },
 "nbformat": 4,
 "nbformat_minor": 5
}
